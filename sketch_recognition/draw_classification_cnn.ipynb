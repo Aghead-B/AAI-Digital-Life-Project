{
 "cells": [
  {
   "attachments": {},
   "cell_type": "markdown",
   "metadata": {},
   "source": [
    "## Recognition of hand drawings with CNNs and using the dataset of Quick-Draw API & generating synonyms of the predicted drawing\n",
    "\n",
    "* Minor Applied Artificial Intelligence HvA\n",
    "* Aghead Bilal"
   ]
  },
  {
   "attachments": {},
   "cell_type": "markdown",
   "metadata": {},
   "source": [
    "### Importing packages"
   ]
  },
  {
   "cell_type": "code",
   "execution_count": 2,
   "metadata": {},
   "outputs": [],
   "source": [
    "%load_ext tensorboard"
   ]
  },
  {
   "cell_type": "code",
   "execution_count": 3,
   "metadata": {},
   "outputs": [],
   "source": [
    "import datetime, os\n",
    "import tensorflow as tf\n",
    "\n",
    "from pathlib import Path\n",
    "from matplotlib import pyplot as plt\n",
    "from quickdraw import QuickDrawDataGroup, QuickDrawData\n",
    "\n",
    "from tensorflow.keras.preprocessing import image_dataset_from_directory\n",
    "\n",
    "from tensorflow.keras.models import Sequential\n",
    "from tensorflow.keras.losses import SparseCategoricalCrossentropy\n",
    "from tensorflow.keras.metrics import sparse_categorical_accuracy\n",
    "from tensorflow.keras.layers.experimental.preprocessing import Rescaling\n",
    "from tensorflow.keras.layers import Dense, Flatten, Conv2D, MaxPooling2D, Dropout, BatchNormalization\n",
    "\n",
    "from tensorflow.keras.callbacks import TensorBoard"
   ]
  },
  {
   "attachments": {},
   "cell_type": "markdown",
   "metadata": {},
   "source": [
    "### Dataset generation"
   ]
  },
  {
   "cell_type": "code",
   "execution_count": 4,
   "metadata": {},
   "outputs": [],
   "source": [
    "image_size = (28, 28)"
   ]
  },
  {
   "attachments": {},
   "cell_type": "markdown",
   "metadata": {},
   "source": [
    "To train the neural network, we generate our own dataset by making slight modifications to the Google dataset. <br>\n",
    "We will employee a Python package called quickdraw to download and access the dataset from the Google Cloud Platform."
   ]
  },
  {
   "cell_type": "code",
   "execution_count": null,
   "metadata": {},
   "outputs": [],
   "source": [
    "# Load 1200 training images for each class from the cloud storage\n",
    "# Resize each image to 28x28 pixels\n",
    "# Save the resized images in PNG format\n",
    "def generate_class_images(name, max_drawings, recognized):\n",
    "    directory = Path(\"dataset/\" + name)\n",
    "\n",
    "    if not directory.exists():\n",
    "        directory.mkdir(parents=True)\n",
    "\n",
    "    # If recognized=True is set, it guarantees that only images recognized by Google's AI will be loaded.\n",
    "    images = QuickDrawDataGroup(name, max_drawings=max_drawings, recognized=recognized)\n",
    "    for img in images.drawings:\n",
    "        filename = directory.as_posix() + \"/\" + str(img.key_id) + \".png\"\n",
    "        img.get_image(stroke_width=3).resize(image_size).save(filename)\n",
    "\n",
    "for label in QuickDrawData().drawing_names:\n",
    "    generate_class_images(label, max_drawings=1200, recognized=True)"
   ]
  },
  {
   "attachments": {},
   "cell_type": "markdown",
   "metadata": {},
   "source": [
    "### Dataset loading/splitting"
   ]
  },
  {
   "attachments": {},
   "cell_type": "markdown",
   "metadata": {},
   "source": [
    "The images will be loaded using the Keras image_dataset_from_directory function and will then be divided into training and validation sets."
   ]
  },
  {
   "cell_type": "code",
   "execution_count": 5,
   "metadata": {},
   "outputs": [
    {
     "name": "stdout",
     "output_type": "stream",
     "text": [
      "Found 414000 files belonging to 345 classes.\n",
      "Using 331200 files for training.\n",
      "Found 414000 files belonging to 345 classes.\n",
      "Using 82800 files for validation.\n"
     ]
    }
   ],
   "source": [
    "# Batch size is a hyperparameter that determines the number of training examples used in one iteration\n",
    "batch_size = 32 \n",
    "\n",
    "# The dataset will be split into an 80% training set and a 20% validation set.\n",
    "train_ds = image_dataset_from_directory(\n",
    "    \"dataset\",\n",
    "    validation_split=0.2,\n",
    "    subset=\"training\",\n",
    "    seed=123,\n",
    "    color_mode=\"grayscale\",\n",
    "    image_size=image_size,\n",
    "    batch_size=batch_size\n",
    ")\n",
    "\n",
    "val_ds = image_dataset_from_directory(\n",
    "    \"dataset\",\n",
    "    validation_split=0.2,\n",
    "    subset=\"validation\",\n",
    "    seed=123,\n",
    "    color_mode=\"grayscale\",\n",
    "    image_size=image_size,\n",
    "    batch_size=batch_size\n",
    ")"
   ]
  },
  {
   "attachments": {},
   "cell_type": "markdown",
   "metadata": {},
   "source": [
    "### Visualization"
   ]
  },
  {
   "attachments": {},
   "cell_type": "markdown",
   "metadata": {},
   "source": [
    "After we split the dataset, let's visualize some random training images."
   ]
  },
  {
   "cell_type": "code",
   "execution_count": 6,
   "metadata": {},
   "outputs": [
    {
     "data": {
      "image/png": "[encoded data removed]",
      "text/plain": [
       "<Figure size 1000x1000 with 9 Axes>"
      ]
     },
     "metadata": {},
     "output_type": "display_data"
    }
   ],
   "source": [
    "# plot 9 random hand drawings with its title from the training set\n",
    "plt.figure(figsize=(10, 10))\n",
    "for images, labels in train_ds.take(1):\n",
    "    for i in range(9):\n",
    "        ax = plt.subplot(3, 3, i + 1)\n",
    "        data = images[i].numpy().astype(\"uint8\")\n",
    "        plt.imshow(data, cmap='gray', vmin=0, vmax=255)\n",
    "        plt.title(train_ds.class_names[labels[i]])\n",
    "        plt.axis(\"off\")"
   ]
  },
  {
   "attachments": {},
   "cell_type": "markdown",
   "metadata": {},
   "source": [
    "### Architecture (Building CNN)"
   ]
  },
  {
   "attachments": {},
   "cell_type": "markdown",
   "metadata": {},
   "source": [
    "We will start by using the seven Keras layers to create our convolutional neural network."
   ]
  },
  {
   "cell_type": "code",
   "execution_count": 11,
   "metadata": {},
   "outputs": [],
   "source": [
    "input_shape = (28, 28, 1)\n",
    "n_classes = 345\n",
    "\n",
    "model = Sequential([\n",
    "    Rescaling(1. / 255, input_shape=input_shape),\n",
    "    BatchNormalization(),\n",
    "\n",
    "    Conv2D(6, kernel_size=(3, 3), padding=\"same\", activation=\"relu\"),\n",
    "    Conv2D(8, kernel_size=(3, 3), padding=\"same\", activation=\"relu\"),\n",
    "    Conv2D(10, kernel_size=(3, 3), padding=\"same\", activation=\"relu\"),\n",
    "    BatchNormalization(),\n",
    "    MaxPooling2D(pool_size=(2, 2)),\n",
    "\n",
    "    Flatten(),\n",
    "\n",
    "    Dense(700, activation='relu'),\n",
    "    BatchNormalization(),\n",
    "    Dropout(0.2),\n",
    "\n",
    "    Dense(500, activation='relu'),\n",
    "    BatchNormalization(),\n",
    "    Dropout(0.2),\n",
    "\n",
    "    Dense(400, activation='relu'),\n",
    "    Dropout(0.2),\n",
    "\n",
    "    Dense(n_classes, activation='softmax')\n",
    "])"
   ]
  },
  {
   "cell_type": "code",
   "execution_count": 12,
   "metadata": {},
   "outputs": [],
   "source": [
    "model.compile(\n",
    "    optimizer=\"adam\",\n",
    "    loss=SparseCategoricalCrossentropy(),\n",
    "    metrics=[\"accuracy\"]\n",
    ")"
   ]
  },
  {
   "cell_type": "code",
   "execution_count": 13,
   "metadata": {},
   "outputs": [
    {
     "name": "stdout",
     "output_type": "stream",
     "text": [
      "Model: \"sequential\"\n",
      "_________________________________________________________________\n",
      " Layer (type)                Output Shape              Param #   \n",
      "=================================================================\n",
      " rescaling (Rescaling)       (None, 28, 28, 1)         0         \n",
      "                                                                 \n",
      " batch_normalization (BatchN  (None, 28, 28, 1)        4         \n",
      " ormalization)                                                   \n",
      "                                                                 \n",
      " conv2d (Conv2D)             (None, 28, 28, 6)         60        \n",
      "                                                                 \n",
      " conv2d_1 (Conv2D)           (None, 28, 28, 8)         440       \n",
      "                                                                 \n",
      " conv2d_2 (Conv2D)           (None, 28, 28, 10)        730       \n",
      "                                                                 \n",
      " batch_normalization_1 (Batc  (None, 28, 28, 10)       40        \n",
      " hNormalization)                                                 \n",
      "                                                                 \n",
      " max_pooling2d (MaxPooling2D  (None, 14, 14, 10)       0         \n",
      " )                                                               \n",
      "                                                                 \n",
      " flatten (Flatten)           (None, 1960)              0         \n",
      "                                                                 \n",
      " dense (Dense)               (None, 700)               1372700   \n",
      "                                                                 \n",
      " batch_normalization_2 (Batc  (None, 700)              2800      \n",
      " hNormalization)                                                 \n",
      "                                                                 \n",
      " dropout (Dropout)           (None, 700)               0         \n",
      "                                                                 \n",
      " dense_1 (Dense)             (None, 500)               350500    \n",
      "                                                                 \n",
      " batch_normalization_3 (Batc  (None, 500)              2000      \n",
      " hNormalization)                                                 \n",
      "                                                                 \n",
      " dropout_1 (Dropout)         (None, 500)               0         \n",
      "                                                                 \n",
      " dense_2 (Dense)             (None, 400)               200400    \n",
      "                                                                 \n",
      " dropout_2 (Dropout)         (None, 400)               0         \n",
      "                                                                 \n",
      " dense_3 (Dense)             (None, 345)               138345    \n",
      "                                                                 \n",
      "=================================================================\n",
      "Total params: 2,068,019\n",
      "Trainable params: 2,065,597\n",
      "Non-trainable params: 2,422\n",
      "_________________________________________________________________\n"
     ]
    }
   ],
   "source": [
    "model.summary()"
   ]
  },
  {
   "attachments": {},
   "cell_type": "markdown",
   "metadata": {},
   "source": [
    "### Training"
   ]
  },
  {
   "attachments": {},
   "cell_type": "markdown",
   "metadata": {},
   "source": [
    "We will train the convolutional neural network for 10 epochs using the Quick, Draw! dataset (for improvement)"
   ]
  },
  {
   "cell_type": "code",
   "execution_count": 14,
   "metadata": {},
   "outputs": [
    {
     "name": "stdout",
     "output_type": "stream",
     "text": [
      "Epoch 1/10\n",
      "10350/10350 [==============================] - 820s 79ms/step - loss: 2.8577 - accuracy: 0.3373 - val_loss: 2.2617 - val_accuracy: 0.4392\n",
      "Epoch 2/10\n",
      "10350/10350 [==============================] - 560s 54ms/step - loss: 2.1301 - accuracy: 0.4653 - val_loss: 1.7450 - val_accuracy: 0.5481\n",
      "Epoch 3/10\n",
      "10350/10350 [==============================] - 482s 47ms/step - loss: 1.8959 - accuracy: 0.5120 - val_loss: 1.6240 - val_accuracy: 0.5738\n",
      "Epoch 4/10\n",
      "10350/10350 [==============================] - 531s 51ms/step - loss: 1.7581 - accuracy: 0.5411 - val_loss: 1.6104 - val_accuracy: 0.5782\n",
      "Epoch 5/10\n",
      "10350/10350 [==============================] - 578s 56ms/step - loss: 1.6630 - accuracy: 0.5611 - val_loss: 1.6283 - val_accuracy: 0.5754\n",
      "Epoch 6/10\n",
      "10350/10350 [==============================] - 523s 51ms/step - loss: 1.5943 - accuracy: 0.5756 - val_loss: 1.4914 - val_accuracy: 0.6068\n",
      "Epoch 7/10\n",
      "10350/10350 [==============================] - 528s 51ms/step - loss: 1.5387 - accuracy: 0.5878 - val_loss: 1.5079 - val_accuracy: 0.6034\n",
      "Epoch 8/10\n",
      "10350/10350 [==============================] - 572s 55ms/step - loss: 1.4914 - accuracy: 0.5981 - val_loss: 1.4922 - val_accuracy: 0.6096\n",
      "Epoch 9/10\n",
      "10350/10350 [==============================] - 575s 56ms/step - loss: 1.4534 - accuracy: 0.6049 - val_loss: 1.5024 - val_accuracy: 0.6052\n",
      "Epoch 10/10\n",
      "10350/10350 [==============================] - 556s 54ms/step - loss: 1.4187 - accuracy: 0.6126 - val_loss: 1.4725 - val_accuracy: 0.6181\n"
     ]
    },
    {
     "name": "stderr",
     "output_type": "stream",
     "text": [
      "WARNING:absl:Found untraced functions such as _jit_compiled_convolution_op, _jit_compiled_convolution_op, _jit_compiled_convolution_op, _update_step_xla while saving (showing 4 of 4). These functions will not be directly callable after loading.\n"
     ]
    },
    {
     "name": "stdout",
     "output_type": "stream",
     "text": [
      "INFO:tensorflow:Assets written to: ./models/model_20230506-152501\\assets\n"
     ]
    },
    {
     "name": "stderr",
     "output_type": "stream",
     "text": [
      "INFO:tensorflow:Assets written to: ./models/model_20230506-152501\\assets\n"
     ]
    }
   ],
   "source": [
    "epochs = 10\n",
    "\n",
    "logdir = os.path.join(\"logs\", datetime.datetime.now().strftime(\"%Y%m%d-%H%M%S\"))\n",
    "tensorboard_callback = TensorBoard(logdir, histogram_freq=1)\n",
    "\n",
    "model.fit(\n",
    "    train_ds,\n",
    "    validation_data=val_ds,\n",
    "    epochs=epochs,\n",
    "    verbose=1,\n",
    "    callbacks=[tensorboard_callback]\n",
    ")\n",
    "\n",
    "model.save('./models/model_' + datetime.datetime.now().strftime(\"%Y%m%d-%H%M%S\"))"
   ]
  },
  {
   "cell_type": "code",
   "execution_count": 15,
   "metadata": {},
   "outputs": [
    {
     "name": "stdout",
     "output_type": "stream",
     "text": [
      "2588/2588 [==============================] - 34s 13ms/step - loss: 1.4725 - accuracy: 0.6181\n",
      "Validation accuracy:  0.6180555820465088\n",
      "10350/10350 [==============================] - 144s 14ms/step - loss: 0.9432 - accuracy: 0.7307\n",
      "Training accuracy:  0.7307367324829102\n"
     ]
    }
   ],
   "source": [
    "# The accuracy of the model on the validation set\n",
    "val_loss, val_acc = model.evaluate(val_ds)\n",
    "print(\"Validation accuracy: \", val_acc)\n",
    "\n",
    "# The accuracy of the model on the training set\n",
    "train_loss, train_acc = model.evaluate(train_ds)\n",
    "print(\"Training accuracy: \", train_acc)\n"
   ]
  },
  {
   "attachments": {},
   "cell_type": "markdown",
   "metadata": {},
   "source": [
    "<b>\n",
    "\n",
    "The validation accuracy is lower than the training accuracy, which is expected because the model has learned to fit the training data well, but it may not generalize well to new data.\n",
    "\n",
    "An accuracy of 62% is actually not bad considering that there are 345 categories, some of which may be quite similar to each other.\n",
    "\n",
    "Overall, the model's performance can be considered moderate, but it may be improved with further optimization."
   ]
  },
  {
   "cell_type": "code",
   "execution_count": 18,
   "metadata": {},
   "outputs": [
    {
     "name": "stdout",
     "output_type": "stream",
     "text": [
      "1/1 [==============================] - 0s 23ms/step\n",
      "Prediction:  star\n",
      "1/1 [==============================] - 0s 22ms/step\n",
      "Prediction:  sleeping bag\n",
      "1/1 [==============================] - 0s 24ms/step\n",
      "Prediction:  nose\n",
      "1/1 [==============================] - 0s 25ms/step\n",
      "Prediction:  computer\n",
      "1/1 [==============================] - 0s 26ms/step\n",
      "Prediction:  washing machine\n",
      "1/1 [==============================] - 0s 23ms/step\n",
      "Prediction:  whale\n",
      "1/1 [==============================] - 0s 22ms/step\n",
      "Prediction:  alarm clock\n",
      "1/1 [==============================] - 0s 25ms/step\n",
      "Prediction:  pool\n",
      "1/1 [==============================] - 0s 28ms/step\n",
      "Prediction:  waterslide\n"
     ]
    },
    {
     "data": {
      "image/png": "[encoded data removed]",
      "text/plain": [
       "<Figure size 1000x1000 with 9 Axes>"
      ]
     },
     "metadata": {},
     "output_type": "display_data"
    }
   ],
   "source": [
    "# plot 9 drawings from the validation set and its prediction from the model\n",
    "plt.figure(figsize=(10, 10))\n",
    "for images, labels in val_ds.take(1):\n",
    "    for i in range(9):\n",
    "        ax = plt.subplot(3, 3, i + 1)\n",
    "        data = images[i].numpy().astype(\"uint8\")\n",
    "        plt.imshow(data, cmap='gray', vmin=0, vmax=255)\n",
    "        plt.title(train_ds.class_names[labels[i]])\n",
    "        plt.axis(\"off\")\n",
    "\n",
    "        prediction = model.predict(images[i:i+1])\n",
    "        print(\"Prediction: \", train_ds.class_names[tf.argmax(prediction[0])])"
   ]
  },
  {
   "cell_type": "code",
   "execution_count": null,
   "metadata": {},
   "outputs": [],
   "source": [
    "%tensorboard --logdir logs"
   ]
  },
  {
   "attachments": {},
   "cell_type": "markdown",
   "metadata": {},
   "source": [
    "### Improving CNN"
   ]
  },
  {
   "cell_type": "code",
   "execution_count": 55,
   "metadata": {},
   "outputs": [],
   "source": [
    "# improve the model by adding more layers\n",
    "model = Sequential([\n",
    "    Rescaling(1. / 255, input_shape=input_shape),\n",
    "    BatchNormalization(),\n",
    "\n",
    "    Conv2D(6, kernel_size=(3, 3), padding=\"same\", activation=\"relu\"),\n",
    "    Conv2D(8, kernel_size=(3, 3), padding=\"same\", activation=\"relu\"),\n",
    "    Conv2D(10, kernel_size=(3, 3), padding=\"same\", activation=\"relu\"),\n",
    "    BatchNormalization(),\n",
    "    MaxPooling2D(pool_size=(2, 2)),\n",
    "    Dropout(0.2),\n",
    "\n",
    "    Conv2D(12, kernel_size=(3, 3), padding=\"same\", activation=\"relu\"),\n",
    "    Conv2D(14, kernel_size=(3, 3), padding=\"same\", activation=\"relu\"),\n",
    "    Conv2D(16, kernel_size=(3, 3), padding=\"same\", activation=\"relu\"),\n",
    "    BatchNormalization(),\n",
    "    MaxPooling2D(pool_size=(2, 2)),\n",
    "    Dropout(0.2),\n",
    "\n",
    "    Flatten(),\n",
    "\n",
    "    Dense(700, activation='relu'),\n",
    "    BatchNormalization(),\n",
    "    Dropout(0.2),\n",
    "\n",
    "    Dense(500, activation='relu'),\n",
    "    BatchNormalization(),\n",
    "    Dropout(0.2),\n",
    "\n",
    "    Dense(400, activation='relu'),\n",
    "    Dropout(0.2),\n",
    "\n",
    "    Dense(n_classes, activation='softmax')\n",
    "])"
   ]
  },
  {
   "cell_type": "code",
   "execution_count": 56,
   "metadata": {},
   "outputs": [],
   "source": [
    "model.compile(\n",
    "    optimizer=\"adam\",\n",
    "    loss=SparseCategoricalCrossentropy(),\n",
    "    metrics=[\"accuracy\"]\n",
    ")"
   ]
  },
  {
   "cell_type": "code",
   "execution_count": 57,
   "metadata": {},
   "outputs": [
    {
     "name": "stdout",
     "output_type": "stream",
     "text": [
      "Model: \"sequential_3\"\n",
      "_________________________________________________________________\n",
      " Layer (type)                Output Shape              Param #   \n",
      "=================================================================\n",
      " rescaling_3 (Rescaling)     (None, 28, 28, 1)         0         \n",
      "                                                                 \n",
      " batch_normalization_14 (Bat  (None, 28, 28, 1)        4         \n",
      " chNormalization)                                                \n",
      "                                                                 \n",
      " conv2d_15 (Conv2D)          (None, 28, 28, 6)         60        \n",
      "                                                                 \n",
      " conv2d_16 (Conv2D)          (None, 28, 28, 8)         440       \n",
      "                                                                 \n",
      " conv2d_17 (Conv2D)          (None, 28, 28, 10)        730       \n",
      "                                                                 \n",
      " batch_normalization_15 (Bat  (None, 28, 28, 10)       40        \n",
      " chNormalization)                                                \n",
      "                                                                 \n",
      " max_pooling2d_5 (MaxPooling  (None, 14, 14, 10)       0         \n",
      " 2D)                                                             \n",
      "                                                                 \n",
      " dropout_13 (Dropout)        (None, 14, 14, 10)        0         \n",
      "                                                                 \n",
      " conv2d_18 (Conv2D)          (None, 14, 14, 12)        1092      \n",
      "                                                                 \n",
      " conv2d_19 (Conv2D)          (None, 14, 14, 14)        1526      \n",
      "                                                                 \n",
      " conv2d_20 (Conv2D)          (None, 14, 14, 16)        2032      \n",
      "                                                                 \n",
      " batch_normalization_16 (Bat  (None, 14, 14, 16)       64        \n",
      " chNormalization)                                                \n",
      "                                                                 \n",
      " max_pooling2d_6 (MaxPooling  (None, 7, 7, 16)         0         \n",
      " 2D)                                                             \n",
      "                                                                 \n",
      " dropout_14 (Dropout)        (None, 7, 7, 16)          0         \n",
      "                                                                 \n",
      " flatten_3 (Flatten)         (None, 784)               0         \n",
      "                                                                 \n",
      " dense_12 (Dense)            (None, 700)               549500    \n",
      "                                                                 \n",
      " batch_normalization_17 (Bat  (None, 700)              2800      \n",
      " chNormalization)                                                \n",
      "                                                                 \n",
      " dropout_15 (Dropout)        (None, 700)               0         \n",
      "                                                                 \n",
      " dense_13 (Dense)            (None, 500)               350500    \n",
      "                                                                 \n",
      " batch_normalization_18 (Bat  (None, 500)              2000      \n",
      " chNormalization)                                                \n",
      "                                                                 \n",
      " dropout_16 (Dropout)        (None, 500)               0         \n",
      "                                                                 \n",
      " dense_14 (Dense)            (None, 400)               200400    \n",
      "                                                                 \n",
      " dropout_17 (Dropout)        (None, 400)               0         \n",
      "                                                                 \n",
      " dense_15 (Dense)            (None, 345)               138345    \n",
      "                                                                 \n",
      "=================================================================\n",
      "Total params: 1,249,533\n",
      "Trainable params: 1,247,079\n",
      "Non-trainable params: 2,454\n",
      "_________________________________________________________________\n"
     ]
    }
   ],
   "source": [
    "model.summary()"
   ]
  },
  {
   "attachments": {},
   "cell_type": "markdown",
   "metadata": {},
   "source": [
    "We will train the improved convolutional neural network for 10 epochs using the Quick, Draw! dataset (for improvement)"
   ]
  },
  {
   "cell_type": "code",
   "execution_count": 17,
   "metadata": {},
   "outputs": [
    {
     "name": "stdout",
     "output_type": "stream",
     "text": [
      "Epoch 1/10\n",
      "10350/10350 [==============================] - 768s 74ms/step - loss: 3.0668 - accuracy: 0.3023 - val_loss: 2.0317 - val_accuracy: 0.4819\n",
      "Epoch 2/10\n",
      "10350/10350 [==============================] - 500s 48ms/step - loss: 2.2403 - accuracy: 0.4402 - val_loss: 1.8087 - val_accuracy: 0.5321\n",
      "Epoch 3/10\n",
      "10350/10350 [==============================] - 502s 49ms/step - loss: 2.0124 - accuracy: 0.4865 - val_loss: 1.6236 - val_accuracy: 0.5722\n",
      "Epoch 4/10\n",
      "10350/10350 [==============================] - 500s 48ms/step - loss: 1.8910 - accuracy: 0.5125 - val_loss: 1.5663 - val_accuracy: 0.5857\n",
      "Epoch 5/10\n",
      "10350/10350 [==============================] - 494s 48ms/step - loss: 1.8136 - accuracy: 0.5282 - val_loss: 1.6729 - val_accuracy: 0.5603\n",
      "Epoch 6/10\n",
      "10350/10350 [==============================] - 527s 51ms/step - loss: 1.7582 - accuracy: 0.5400 - val_loss: 1.4771 - val_accuracy: 0.6077\n",
      "Epoch 7/10\n",
      "10350/10350 [==============================] - 499s 48ms/step - loss: 1.7177 - accuracy: 0.5502 - val_loss: 1.4078 - val_accuracy: 0.6234\n",
      "Epoch 8/10\n",
      "10350/10350 [==============================] - 495s 48ms/step - loss: 1.6896 - accuracy: 0.5550 - val_loss: 1.3855 - val_accuracy: 0.6295\n",
      "Epoch 9/10\n",
      "10350/10350 [==============================] - 521s 50ms/step - loss: 1.6649 - accuracy: 0.5613 - val_loss: 1.3866 - val_accuracy: 0.6285\n",
      "Epoch 10/10\n",
      "10350/10350 [==============================] - 509s 49ms/step - loss: 1.6404 - accuracy: 0.5668 - val_loss: 1.4144 - val_accuracy: 0.6207\n"
     ]
    },
    {
     "name": "stderr",
     "output_type": "stream",
     "text": [
      "WARNING:absl:Found untraced functions such as _jit_compiled_convolution_op, _jit_compiled_convolution_op, _jit_compiled_convolution_op, _jit_compiled_convolution_op, _jit_compiled_convolution_op while saving (showing 5 of 7). These functions will not be directly callable after loading.\n"
     ]
    },
    {
     "name": "stdout",
     "output_type": "stream",
     "text": [
      "INFO:tensorflow:Assets written to: ./models/model_20230506-200636\\assets\n"
     ]
    },
    {
     "name": "stderr",
     "output_type": "stream",
     "text": [
      "INFO:tensorflow:Assets written to: ./models/model_20230506-200636\\assets\n"
     ]
    }
   ],
   "source": [
    "epochs = 10\n",
    "\n",
    "logdir = os.path.join(\"logs\", datetime.datetime.now().strftime(\"%Y%m%d-%H%M%S\"))\n",
    "tensorboard_callback = TensorBoard(logdir, histogram_freq=1)\n",
    "\n",
    "model.fit(\n",
    "    train_ds,\n",
    "    validation_data=val_ds,\n",
    "    epochs=epochs,\n",
    "    verbose=1,\n",
    "    callbacks=[tensorboard_callback]\n",
    ")\n",
    "\n",
    "model.save('./models/model_' + datetime.datetime.now().strftime(\"%Y%m%d-%H%M%S\"))"
   ]
  },
  {
   "cell_type": "code",
   "execution_count": 18,
   "metadata": {},
   "outputs": [
    {
     "name": "stdout",
     "output_type": "stream",
     "text": [
      "2588/2588 [==============================] - 33s 13ms/step - loss: 1.4144 - accuracy: 0.6207\n",
      "Validation accuracy:  0.620724618434906\n",
      "10350/10350 [==============================] - 136s 13ms/step - loss: 1.2166 - accuracy: 0.6623\n",
      "Training accuracy:  0.6623249053955078\n"
     ]
    }
   ],
   "source": [
    "# The accuracy of the model on the validation set\n",
    "val_loss, val_acc = model.evaluate(val_ds)\n",
    "print(\"Validation accuracy: \", val_acc)\n",
    "\n",
    "# The accuracy of the model on the training set\n",
    "train_loss, train_acc = model.evaluate(train_ds)\n",
    "print(\"Training accuracy: \", train_acc)"
   ]
  },
  {
   "attachments": {},
   "cell_type": "markdown",
   "metadata": {},
   "source": [
    "<b>\n",
    "\n",
    "After adding more layers we got an accuracy of 62%"
   ]
  },
  {
   "cell_type": "code",
   "execution_count": 59,
   "metadata": {},
   "outputs": [],
   "source": [
    "# Load model_20230506-200636\n",
    "model = tf.keras.models.load_model('./models/model_20230506-200636')"
   ]
  },
  {
   "cell_type": "code",
   "execution_count": 60,
   "metadata": {},
   "outputs": [
    {
     "name": "stdout",
     "output_type": "stream",
     "text": [
      "1/1 [==============================] - 0s 175ms/step\n",
      "Prediction:  microwave\n",
      "1/1 [==============================] - 0s 24ms/step\n",
      "Prediction:  scissors\n",
      "1/1 [==============================] - 0s 23ms/step\n",
      "Prediction:  microphone\n",
      "1/1 [==============================] - 0s 24ms/step\n",
      "Prediction:  cookie\n",
      "1/1 [==============================] - 0s 25ms/step\n",
      "Prediction:  mountain\n",
      "1/1 [==============================] - 0s 25ms/step\n",
      "Prediction:  square\n",
      "1/1 [==============================] - 0s 24ms/step\n",
      "Prediction:  mouth\n",
      "1/1 [==============================] - 0s 25ms/step\n",
      "Prediction:  beach\n",
      "1/1 [==============================] - 0s 27ms/step\n",
      "Prediction:  bear\n"
     ]
    },
    {
     "data": {
      "image/png": "[encoded data removed]",
      "text/plain": [
       "<Figure size 1000x1000 with 9 Axes>"
      ]
     },
     "metadata": {},
     "output_type": "display_data"
    }
   ],
   "source": [
    "# plot 9 drawings from the validation set and its prediction from the model\n",
    "plt.figure(figsize=(10, 10))\n",
    "for images, labels in val_ds.take(1):\n",
    "    for i in range(9):\n",
    "        ax = plt.subplot(3, 3, i + 1)\n",
    "        data = images[i].numpy().astype(\"uint8\")\n",
    "        plt.imshow(data, cmap='gray', vmin=0, vmax=255)\n",
    "        plt.title(train_ds.class_names[labels[i]])\n",
    "        plt.axis(\"off\")\n",
    "\n",
    "        prediction = model.predict(images[i:i+1])\n",
    "        print(\"Prediction: \", train_ds.class_names[tf.argmax(prediction[0])])"
   ]
  },
  {
   "cell_type": "code",
   "execution_count": 63,
   "metadata": {},
   "outputs": [
    {
     "name": "stdout",
     "output_type": "stream",
     "text": [
      "1/1 [==============================] - 0s 23ms/step\n",
      "Prediction:  sun\n"
     ]
    },
    {
     "data": {
      "image/png": "[encoded data removed]",
      "text/plain": [
       "<Figure size 1000x1000 with 1 Axes>"
      ]
     },
     "metadata": {},
     "output_type": "display_data"
    }
   ],
   "source": [
    "# plot a  drawing from the validation set and its prediction from the model\n",
    "plt.figure(figsize=(10, 10))\n",
    "for images, labels in val_ds.take(1):\n",
    "    ax = plt.subplot(3, 3, 1)\n",
    "    data = images[0].numpy().astype(\"uint8\")\n",
    "    plt.imshow(data, cmap='gray', vmin=0, vmax=255)\n",
    "    plt.title(train_ds.class_names[labels[0]])\n",
    "    plt.axis(\"off\")\n",
    "\n",
    "    prediction = model.predict(images[0:1])\n",
    "    print(\"Prediction: \", train_ds.class_names[tf.argmax(prediction[0])])"
   ]
  },
  {
   "attachments": {},
   "cell_type": "markdown",
   "metadata": {},
   "source": [
    "### word vectorization of the predicted drawing"
   ]
  },
  {
   "cell_type": "code",
   "execution_count": 49,
   "metadata": {},
   "outputs": [
    {
     "name": "stderr",
     "output_type": "stream",
     "text": [
      "[nltk_data] Downloading package word2vec_sample to\n",
      "[nltk_data]     word_vectorization...\n",
      "[nltk_data]   Package word2vec_sample is already up-to-date!\n"
     ]
    },
    {
     "data": {
      "text/plain": [
       "True"
      ]
     },
     "execution_count": 49,
     "metadata": {},
     "output_type": "execute_result"
    }
   ],
   "source": [
    "import nltk\n",
    "import gensim\n",
    "import random\n",
    "import math\n",
    "\n",
    "nltk.download('word2vec_sample', download_dir='word_vectorization')"
   ]
  },
  {
   "cell_type": "code",
   "execution_count": 64,
   "metadata": {},
   "outputs": [],
   "source": [
    "word2vec_sample = str(r\"word_vectorization\\models\\word2vec_sample\\pruned.word2vec.txt\")\n",
    "\n",
    "modelSynonym = gensim.models.KeyedVectors.load_word2vec_format(word2vec_sample, binary = False)\n",
    "\n",
    "wordToGetSynonymFor = train_ds.class_names[tf.argmax(prediction[0])]\n",
    "\n",
    "top = modelSynonym.most_similar(positive = [wordToGetSynonymFor], topn = 50)"
   ]
  },
  {
   "cell_type": "code",
   "execution_count": 65,
   "metadata": {},
   "outputs": [
    {
     "name": "stdout",
     "output_type": "stream",
     "text": [
      "['sunlight', 'sunshine', 'rays', 'sunny', 'shade', 'starlight', 'moonlight', 'sunburn', 'balmy', 'sunrise', 'daylight', 'mist', 'darkness', 'dusk', 'heat', 'cloudless', 'glow', 'breezes', 'overcast', 'temperatures', 'sweltering', 'sky', 'brightness', 'sunset', 'breeze', 'humid', 'equator', 'misty', 'ultraviolet', 'solstice', 'windless', 'glare', 'frost', 'raindrops', 'rain', 'sunburnt', 'twilight', 'rainless', 'warmish', 'moon', 'dew', 'humidity', 'cloudy', 'clouds', 'temperature', 'moonlit', 'windy', 'lamplight', 'muggy']\n"
     ]
    }
   ],
   "source": [
    "listOfTops = [];\n",
    "\n",
    "# Remove the 'Distanse' between the words, so that we are simply left with strings.\n",
    "for t in top:\n",
    "    listOfTops.append(t[0])\n",
    "\n",
    "# The words to get removed.\n",
    "withS = wordToGetSynonymFor + 's'\n",
    "withCapital = wordToGetSynonymFor.capitalize()\n",
    "withBoth = withS.capitalize()\n",
    "\n",
    "# Remove words that add an s, or start with a capital letter of the originial word.\n",
    "# This will only work if its on a seperate loop?!\n",
    "for t in listOfTops:\n",
    "    if t == withCapital:\n",
    "        listOfTops.remove(t)\n",
    "\n",
    "for t in listOfTops:\n",
    "    if t == withS:\n",
    "        listOfTops.remove(t)\n",
    "    \n",
    "    if t == withBoth:\n",
    "        listOfTops.remove(t)\n",
    "\n",
    "# The list of words.\n",
    "print(listOfTops)"
   ]
  }
 ],
 "metadata": {
  "kernelspec": {
   "display_name": "Python 3",
   "language": "python",
   "name": "python3"
  },
  "language_info": {
   "codemirror_mode": {
    "name": "ipython",
    "version": 3
   },
   "file_extension": ".py",
   "mimetype": "text/x-python",
   "name": "python",
   "nbconvert_exporter": "python",
   "pygments_lexer": "ipython3",
   "version": "3.10.9"
  },
  "orig_nbformat": 4
 },
 "nbformat": 4,
 "nbformat_minor": 2
}

{
 "cells": [
  {
   "cell_type": "code",
   "execution_count": 1,
   "id": "5fa74926",
   "metadata": {},
   "outputs": [
    {
     "name": "stderr",
     "output_type": "stream",
     "text": [
      "[nltk_data] Downloading package word2vec_sample to\n",
      "[nltk_data]     word_vectorization...\n",
      "[nltk_data]   Package word2vec_sample is already up-to-date!\n"
     ]
    },
    {
     "data": {
      "text/plain": [
       "True"
      ]
     },
     "execution_count": 1,
     "metadata": {},
     "output_type": "execute_result"
    }
   ],
   "source": [
    "import nltk\n",
    "import gensim\n",
    "\n",
    "nltk.download('word2vec_sample', download_dir='word_vectorization')"
   ]
  },
  {
   "cell_type": "code",
   "execution_count": 40,
   "id": "a5c9a458",
   "metadata": {},
   "outputs": [],
   "source": [
    "word2vec_sample = str(r\"word_vectorization_models\\models\\word2vec_sample\\pruned.word2vec.txt\")\n",
    "\n",
    "model = gensim.models.KeyedVectors.load_word2vec_format(word2vec_sample, binary=False)\n",
    "\n",
    "wordToGetSynonymFor = \"building\"\n",
    "\n",
    "top=model.most_similar(positive=[wordToGetSynonymFor], topn = 10)"
   ]
  },
  {
   "cell_type": "code",
   "execution_count": 44,
   "id": "17b5724a",
   "metadata": {},
   "outputs": [
    {
     "name": "stdout",
     "output_type": "stream",
     "text": [
      "['buildings', 'Building', 'constructing', 'construction', 'renovated', 'brick', 'renovation', 'build', 'edifice', 'tower']\n",
      "Building\n",
      " removed! 2\n",
      "['Building', 'constructing', 'construction', 'renovated', 'brick', 'renovation', 'build', 'edifice', 'tower']\n"
     ]
    }
   ],
   "source": [
    "listOfTops = [];\n",
    "for t in top:\n",
    "    listOfTops.append(t[0])\n",
    "\n",
    "print(listOfTops)\n",
    "wordToGetSynonymForWithS = wordToGetSynonymFor + 's'\n",
    "wordToGetSynonymForWithCapital = wordToGetSynonymFor.capitalize()\n",
    "wordToGetSynonymForWithBoth = wordToGetSynonymForWithS.capitalize()\n",
    "\n",
    "print(wordToGetSynonymFor.capitalize())\n",
    "\n",
    "for t in listOfTops:\n",
    "    if t == wordToGetSynonymFor.capitalize():\n",
    "        print(' removed! 1')\n",
    "        listOfTops.remove(t)\n",
    "    \n",
    "    if t == wordToGetSynonymForWithS:\n",
    "        print(' removed! 2')\n",
    "        listOfTops.remove(t)\n",
    "    \n",
    "    if t == wordToGetSynonymForWithBoth:\n",
    "        print(' removed! 3')\n",
    "        listOfTops.remove(t)\n",
    "\n",
    "print(listOfTops)"
   ]
  },
  {
   "cell_type": "code",
   "execution_count": null,
   "id": "b402700a",
   "metadata": {},
   "outputs": [],
   "source": []
  }
 ],
 "metadata": {
  "kernelspec": {
   "display_name": "Python 3 (ipykernel)",
   "language": "python",
   "name": "python3"
  },
  "language_info": {
   "codemirror_mode": {
    "name": "ipython",
    "version": 3
   },
   "file_extension": ".py",
   "mimetype": "text/x-python",
   "name": "python",
   "nbconvert_exporter": "python",
   "pygments_lexer": "ipython3",
   "version": "3.10.9"
  }
 },
 "nbformat": 4,
 "nbformat_minor": 5
}

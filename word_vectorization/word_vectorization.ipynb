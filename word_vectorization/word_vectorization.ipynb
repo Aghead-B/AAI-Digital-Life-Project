{
 "cells": [
  {
   "cell_type": "code",
   "execution_count": 4,
   "id": "5fa74926",
   "metadata": {},
   "outputs": [
    {
     "name": "stderr",
     "output_type": "stream",
     "text": [
      "[nltk_data] Downloading package word2vec_sample to\n",
      "[nltk_data]     word_vectorization...\n",
      "[nltk_data]   Package word2vec_sample is already up-to-date!\n"
     ]
    },
    {
     "data": {
      "text/plain": [
       "True"
      ]
     },
     "execution_count": 4,
     "metadata": {},
     "output_type": "execute_result"
    }
   ],
   "source": [
    "import nltk\n",
    "import gensim\n",
    "import random\n",
    "import math\n",
    "\n",
    "nltk.download('word2vec_sample', download_dir='word_vectorization')"
   ]
  },
  {
   "cell_type": "code",
   "execution_count": 13,
   "id": "a5c9a458",
   "metadata": {},
   "outputs": [],
   "source": [
    "word2vec_sample = str(r\"word_vectorization_models\\models\\word2vec_sample\\pruned.word2vec.txt\")\n",
    "\n",
    "model = gensim.models.KeyedVectors.load_word2vec_format(word2vec_sample, binary = False)\n",
    "\n",
    "wordToGetSynonymFor = \"house\"\n",
    "\n",
    "top = model.most_similar(positive = [wordToGetSynonymFor], topn = 50)"
   ]
  },
  {
   "cell_type": "code",
   "execution_count": 14,
   "id": "17b5724a",
   "metadata": {
    "scrolled": true
   },
   "outputs": [
    {
     "name": "stdout",
     "output_type": "stream",
     "text": [
      "['bungalow', 'apartment', 'bedroom', 'residence', 'mansion', 'farmhouse', 'duplex', 'homes', 'home', 'garage', 'villa', 'cottage', 'apartments', 'upstairs', 'attic', 'abode', 'shack', 'residences', 'porch', 'carport', 'manse', 'basement', 'downstairs', 'parsonage', 'barn', 'kitchen', 'bedrooms', 'neighbor', 'rented', 'castle', 'room', 'dwellings', 'motel', 'hut', 'cabin', 'premises', 'hutment', 'driveway', 'property', 'Apartments', 'crawlspace', 'building', 'neighborhood', 'backyard', 'flats', 'unoccupied', 'door', 'family', 'convent']\n"
     ]
    }
   ],
   "source": [
    "listOfTops = [];\n",
    "\n",
    "# Remove the 'Distanse' between the words, so that we are simply left with strings.\n",
    "for t in top:\n",
    "    listOfTops.append(t[0])\n",
    "\n",
    "# The words to get removed.\n",
    "withS = wordToGetSynonymFor + 's'\n",
    "withCapital = wordToGetSynonymFor.capitalize()\n",
    "withBoth = withS.capitalize()\n",
    "\n",
    "# Remove words that add an s, or start with a capital letter of the originial word.\n",
    "# This will only work if its on a seperate loop?!\n",
    "for t in listOfTops:\n",
    "    if t == withCapital:\n",
    "        listOfTops.remove(t)\n",
    "\n",
    "for t in listOfTops:\n",
    "    if t == withS:\n",
    "        listOfTops.remove(t)\n",
    "    \n",
    "    if t == withBoth:\n",
    "        listOfTops.remove(t)\n",
    "\n",
    "# The list of words.\n",
    "print(listOfTops)"
   ]
  },
  {
   "cell_type": "code",
   "execution_count": 15,
   "id": "b402700a",
   "metadata": {},
   "outputs": [
    {
     "name": "stdout",
     "output_type": "stream",
     "text": [
      "Range start:  40\n",
      "Range end:  49\n",
      "convent\n"
     ]
    }
   ],
   "source": [
    "# Get word to generate image for. Can chose in increments the start and end range that you want to get. The closer to zero, the\n",
    "# closer it is to the original word.\n",
    "\n",
    "end = math.ceil(len(listOfTops) / 1)\n",
    "start = math.ceil(len(listOfTops) / 1.25)\n",
    "print('Range start: ', start)\n",
    "print('Range end: ', end)\n",
    "\n",
    "synonym = listOfTops[random.randrange(start, end)]\n",
    "\n",
    "print(synonym)"
   ]
  },
  {
   "cell_type": "code",
   "execution_count": 16,
   "id": "d10f7fa0",
   "metadata": {},
   "outputs": [],
   "source": [
    "# Stable diffusion. Takes too long, or needs a unrealistic pc for fast speeds.\n",
    "\n",
    "# import torch\n",
    "# from diffusers import StableDiffusionPipeline\n",
    "\n",
    "# model_id = \"CompVis/stable-diffusion-v1-4\"\n",
    "# device = \"cuda\"\n",
    "\n",
    "\n",
    "# pipe = StableDiffusionPipeline.from_pretrained(model_id, torch_dtype=torch.float16)\n",
    "# pipe = pipe.to(device)\n",
    "\n",
    "# prompt = \"a photo of an astronaut riding a horse on mars\"\n",
    "# image = pipe(prompt).images[0]  \n",
    "    \n",
    "# image.save(\"astronaut_rides_horse.png\")"
   ]
  },
  {
   "cell_type": "code",
   "execution_count": 23,
   "id": "e16b1294",
   "metadata": {},
   "outputs": [
    {
     "name": "stdout",
     "output_type": "stream",
     "text": [
      "loading flower drawings\n",
      "load complete\n"
     ]
    }
   ],
   "source": [
    "from quickdraw import QuickDrawData\n",
    "\n",
    "qd = QuickDrawData()\n",
    "\n",
    "anvil = qd.get_drawing(\"flower\")\n",
    "anvil.image.show()"
   ]
  },
  {
   "cell_type": "code",
   "execution_count": null,
   "id": "cd0e02fd",
   "metadata": {},
   "outputs": [],
   "source": []
  },
  {
   "cell_type": "code",
   "execution_count": null,
   "id": "2c125369",
   "metadata": {},
   "outputs": [],
   "source": []
  }
 ],
 "metadata": {
  "kernelspec": {
   "display_name": "Python 3 (ipykernel)",
   "language": "python",
   "name": "python3"
  },
  "language_info": {
   "codemirror_mode": {
    "name": "ipython",
    "version": 3
   },
   "file_extension": ".py",
   "mimetype": "text/x-python",
   "name": "python",
   "nbconvert_exporter": "python",
   "pygments_lexer": "ipython3",
   "version": "3.10.9"
  }
 },
 "nbformat": 4,
 "nbformat_minor": 5
}

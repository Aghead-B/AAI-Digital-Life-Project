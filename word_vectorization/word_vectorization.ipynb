{
 "cells": [
  {
   "cell_type": "code",
   "execution_count": 35,
   "id": "5fa74926",
   "metadata": {},
   "outputs": [
    {
     "name": "stderr",
     "output_type": "stream",
     "text": [
      "[nltk_data] Downloading package word2vec_sample to\n",
      "[nltk_data]     word_vectorization...\n",
      "[nltk_data]   Unzipping models\\word2vec_sample.zip.\n"
     ]
    },
    {
     "data": {
      "text/plain": [
       "True"
      ]
     },
     "execution_count": 35,
     "metadata": {},
     "output_type": "execute_result"
    }
   ],
   "source": [
    "import nltk\n",
    "import gensim\n",
    "\n",
    "nltk.download('word2vec_sample', download_dir='word_vectorization')"
   ]
  },
  {
   "cell_type": "code",
   "execution_count": 41,
   "id": "a5c9a458",
   "metadata": {},
   "outputs": [
    {
     "name": "stdout",
     "output_type": "stream",
     "text": [
      "[('elephant', 0.6681443452835083), ('elephants', 0.640099287033081), ('tigress', 0.598202645778656), ('cheetah', 0.5816307663917542), ('lions', 0.5742772221565247), ('rhinos', 0.5689024925231934), ('alligator', 0.5579591393470764), ('leopards', 0.5572842359542847), ('wolf', 0.5533438324928284), ('crocodile', 0.5497838854789734)]\n"
     ]
    }
   ],
   "source": [
    "word2vec_sample = str(r\"word_vectorization_models\\models\\word2vec_sample\\pruned.word2vec.txt\")\n",
    "\n",
    "model = gensim.models.KeyedVectors.load_word2vec_format(word2vec_sample, binary=False)\n",
    "\n",
    "wordToGetSynonymFor = \"tiger\"\n",
    "\n",
    "top=model.most_similar(positive=[wordToGetSynonymFor], topn = 10)\n",
    "\n",
    "print(top)"
   ]
  },
  {
   "cell_type": "code",
   "execution_count": null,
   "id": "17b5724a",
   "metadata": {},
   "outputs": [],
   "source": []
  }
 ],
 "metadata": {
  "kernelspec": {
   "display_name": "Python 3 (ipykernel)",
   "language": "python",
   "name": "python3"
  },
  "language_info": {
   "codemirror_mode": {
    "name": "ipython",
    "version": 3
   },
   "file_extension": ".py",
   "mimetype": "text/x-python",
   "name": "python",
   "nbconvert_exporter": "python",
   "pygments_lexer": "ipython3",
   "version": "3.10.9"
  }
 },
 "nbformat": 4,
 "nbformat_minor": 5
}

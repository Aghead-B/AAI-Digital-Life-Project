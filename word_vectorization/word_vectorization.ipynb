{
 "cells": [
  {
   "cell_type": "code",
   "execution_count": 39,
   "id": "5fa74926",
   "metadata": {},
   "outputs": [
    {
     "name": "stderr",
     "output_type": "stream",
     "text": [
      "[nltk_data] Downloading package word2vec_sample to\n",
      "[nltk_data]     word_vectorization...\n",
      "[nltk_data]   Package word2vec_sample is already up-to-date!\n"
     ]
    },
    {
     "data": {
      "text/plain": [
       "True"
      ]
     },
     "execution_count": 39,
     "metadata": {},
     "output_type": "execute_result"
    }
   ],
   "source": [
    "import nltk\n",
    "import gensim\n",
    "import random\n",
    "import math\n",
    "\n",
    "nltk.download('word2vec_sample', download_dir='word_vectorization')"
   ]
  },
  {
   "cell_type": "code",
   "execution_count": 91,
   "id": "a5c9a458",
   "metadata": {},
   "outputs": [],
   "source": [
    "word2vec_sample = str(r\"word_vectorization_models\\models\\word2vec_sample\\pruned.word2vec.txt\")\n",
    "\n",
    "model = gensim.models.KeyedVectors.load_word2vec_format(word2vec_sample, binary = False)\n",
    "\n",
    "wordToGetSynonymFor = \"butterflies\"\n",
    "\n",
    "top = model.most_similar(positive = [wordToGetSynonymFor], topn = 50)"
   ]
  },
  {
   "cell_type": "code",
   "execution_count": 92,
   "id": "17b5724a",
   "metadata": {
    "scrolled": true
   },
   "outputs": [
    {
     "name": "stdout",
     "output_type": "stream",
     "text": [
      "['insects', 'birds', 'caterpillars', 'bees', 'moths', 'butterfly', 'owls', 'orchids', 'frogs', 'bird', 'insect', 'snakes', 'herons', 'lizards', 'larvae', 'moth', 'critters', 'tadpoles', 'bumblebees', 'beetles', 'creatures', 'ferns', 'owl', 'caterpillar', 'egrets', 'cicadas', 'species', 'robin', 'flora', 'turtles', 'peacocks', 'ants', 'dewdrops', 'grasshoppers', 'rattlers', 'wasp', 'snails', 'fledglings', 'bumblebee', 'nectar', 'jonquils', 'feathers', 'Birds', 'fluttering', 'swans', 'blooms', 'eagles', 'bugs', 'doves', 'migratory']\n"
     ]
    }
   ],
   "source": [
    "listOfTops = [];\n",
    "\n",
    "# Remove the 'Distanse' between the words, so that we are simply left with strings.\n",
    "for t in top:\n",
    "    listOfTops.append(t[0])\n",
    "\n",
    "# The words to get removed.\n",
    "withS = wordToGetSynonymFor + 's'\n",
    "withCapital = wordToGetSynonymFor.capitalize()\n",
    "withBoth = withS.capitalize()\n",
    "\n",
    "# Remove words that add an s, or start with a capital letter of the originial word.\n",
    "# This will only work if its on a seperate loop?!\n",
    "for t in listOfTops:\n",
    "    if t == withCapital:\n",
    "        listOfTops.remove(t)\n",
    "\n",
    "for t in listOfTops:\n",
    "    if t == withS:\n",
    "        listOfTops.remove(t)\n",
    "    \n",
    "    if t == withBoth:\n",
    "        listOfTops.remove(t)\n",
    "\n",
    "# The list of words.\n",
    "print(listOfTops)"
   ]
  },
  {
   "cell_type": "code",
   "execution_count": 99,
   "id": "b402700a",
   "metadata": {},
   "outputs": [
    {
     "name": "stdout",
     "output_type": "stream",
     "text": [
      "Range start:  40\n",
      "Range end:  50\n",
      "Birds\n"
     ]
    }
   ],
   "source": [
    "# Get word to generate image for. Can chose in increments the start and end range that you want to get. The closer to zero, the\n",
    "# closer it is to the original word.\n",
    "\n",
    "end = math.ceil(len(listOfTops) / 1)\n",
    "start = math.ceil(len(listOfTops) / 1.25)\n",
    "print('Range start: ', start)\n",
    "print('Range end: ', end)\n",
    "\n",
    "print(listOfTops[random.randrange(start, end)])"
   ]
  },
  {
   "cell_type": "code",
   "execution_count": null,
   "id": "d10f7fa0",
   "metadata": {},
   "outputs": [],
   "source": []
  },
  {
   "cell_type": "code",
   "execution_count": null,
   "id": "e16b1294",
   "metadata": {},
   "outputs": [],
   "source": []
  },
  {
   "cell_type": "code",
   "execution_count": null,
   "id": "cd0e02fd",
   "metadata": {},
   "outputs": [],
   "source": []
  }
 ],
 "metadata": {
  "kernelspec": {
   "display_name": "Python 3 (ipykernel)",
   "language": "python",
   "name": "python3"
  },
  "language_info": {
   "codemirror_mode": {
    "name": "ipython",
    "version": 3
   },
   "file_extension": ".py",
   "mimetype": "text/x-python",
   "name": "python",
   "nbconvert_exporter": "python",
   "pygments_lexer": "ipython3",
   "version": "3.10.9"
  }
 },
 "nbformat": 4,
 "nbformat_minor": 5
}
